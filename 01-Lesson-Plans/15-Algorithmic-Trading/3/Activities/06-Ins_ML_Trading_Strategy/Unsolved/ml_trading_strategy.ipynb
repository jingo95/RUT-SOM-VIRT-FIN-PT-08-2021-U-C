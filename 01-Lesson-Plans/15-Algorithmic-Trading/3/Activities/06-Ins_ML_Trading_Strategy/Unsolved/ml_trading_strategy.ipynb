{
 "cells": [
  {
   "cell_type": "markdown",
   "metadata": {},
   "source": [
    "# Use Machine Learning in a Trading Strategy\n",
    "\n",
    "## Loading and Preparing the Data"
   ]
  },
  {
   "cell_type": "code",
   "execution_count": 1,
   "metadata": {},
   "outputs": [],
   "source": [
    "# Import required libraries\n",
    "import pandas as pd\n",
    "from pathlib import Path"
   ]
  },
  {
   "cell_type": "code",
   "execution_count": 2,
   "metadata": {},
   "outputs": [
    {
     "data": {
      "text/html": [
       "<div>\n",
       "<style scoped>\n",
       "    .dataframe tbody tr th:only-of-type {\n",
       "        vertical-align: middle;\n",
       "    }\n",
       "\n",
       "    .dataframe tbody tr th {\n",
       "        vertical-align: top;\n",
       "    }\n",
       "\n",
       "    .dataframe thead th {\n",
       "        text-align: right;\n",
       "    }\n",
       "</style>\n",
       "<table border=\"1\" class=\"dataframe\">\n",
       "  <thead>\n",
       "    <tr style=\"text-align: right;\">\n",
       "      <th></th>\n",
       "      <th>open</th>\n",
       "      <th>high</th>\n",
       "      <th>low</th>\n",
       "      <th>close</th>\n",
       "      <th>volume</th>\n",
       "    </tr>\n",
       "    <tr>\n",
       "      <th>date</th>\n",
       "      <th></th>\n",
       "      <th></th>\n",
       "      <th></th>\n",
       "      <th></th>\n",
       "      <th></th>\n",
       "    </tr>\n",
       "  </thead>\n",
       "  <tbody>\n",
       "    <tr>\n",
       "      <th>2018-10-19 09:30:00</th>\n",
       "      <td>16.90</td>\n",
       "      <td>17.18</td>\n",
       "      <td>16.90</td>\n",
       "      <td>17.095</td>\n",
       "      <td>11522</td>\n",
       "    </tr>\n",
       "    <tr>\n",
       "      <th>2018-10-19 09:45:00</th>\n",
       "      <td>17.11</td>\n",
       "      <td>17.44</td>\n",
       "      <td>17.11</td>\n",
       "      <td>17.400</td>\n",
       "      <td>70593</td>\n",
       "    </tr>\n",
       "    <tr>\n",
       "      <th>2018-10-19 10:00:00</th>\n",
       "      <td>17.40</td>\n",
       "      <td>17.40</td>\n",
       "      <td>17.25</td>\n",
       "      <td>17.280</td>\n",
       "      <td>38885</td>\n",
       "    </tr>\n",
       "    <tr>\n",
       "      <th>2018-10-19 10:15:00</th>\n",
       "      <td>17.27</td>\n",
       "      <td>17.27</td>\n",
       "      <td>17.18</td>\n",
       "      <td>17.200</td>\n",
       "      <td>37046</td>\n",
       "    </tr>\n",
       "    <tr>\n",
       "      <th>2018-10-19 10:30:00</th>\n",
       "      <td>17.21</td>\n",
       "      <td>17.37</td>\n",
       "      <td>17.19</td>\n",
       "      <td>17.200</td>\n",
       "      <td>46874</td>\n",
       "    </tr>\n",
       "  </tbody>\n",
       "</table>\n",
       "</div>"
      ],
      "text/plain": [
       "                      open   high    low   close  volume\n",
       "date                                                    \n",
       "2018-10-19 09:30:00  16.90  17.18  16.90  17.095   11522\n",
       "2018-10-19 09:45:00  17.11  17.44  17.11  17.400   70593\n",
       "2018-10-19 10:00:00  17.40  17.40  17.25  17.280   38885\n",
       "2018-10-19 10:15:00  17.27  17.27  17.18  17.200   37046\n",
       "2018-10-19 10:30:00  17.21  17.37  17.19  17.200   46874"
      ]
     },
     "execution_count": 2,
     "metadata": {},
     "output_type": "execute_result"
    }
   ],
   "source": [
    "# Import the OHLCV dataset into a Pandas Dataframe\n",
    "trading_df = pd.read_csv(\n",
    "    Path(\"../Resources/ohlcv.csv\"), \n",
    "    index_col=\"date\", \n",
    "    infer_datetime_format=True, \n",
    "    parse_dates=True\n",
    ")\n",
    "\n",
    "# Display sample data\n",
    "trading_df.head()"
   ]
  },
  {
   "cell_type": "code",
   "execution_count": 3,
   "metadata": {},
   "outputs": [
    {
     "data": {
      "text/html": [
       "<div>\n",
       "<style scoped>\n",
       "    .dataframe tbody tr th:only-of-type {\n",
       "        vertical-align: middle;\n",
       "    }\n",
       "\n",
       "    .dataframe tbody tr th {\n",
       "        vertical-align: top;\n",
       "    }\n",
       "\n",
       "    .dataframe thead th {\n",
       "        text-align: right;\n",
       "    }\n",
       "</style>\n",
       "<table border=\"1\" class=\"dataframe\">\n",
       "  <thead>\n",
       "    <tr style=\"text-align: right;\">\n",
       "      <th></th>\n",
       "      <th>open</th>\n",
       "      <th>high</th>\n",
       "      <th>low</th>\n",
       "      <th>close</th>\n",
       "      <th>volume</th>\n",
       "      <th>actual_returns</th>\n",
       "    </tr>\n",
       "    <tr>\n",
       "      <th>date</th>\n",
       "      <th></th>\n",
       "      <th></th>\n",
       "      <th></th>\n",
       "      <th></th>\n",
       "      <th></th>\n",
       "      <th></th>\n",
       "    </tr>\n",
       "  </thead>\n",
       "  <tbody>\n",
       "    <tr>\n",
       "      <th>2018-10-19 09:30:00</th>\n",
       "      <td>16.90</td>\n",
       "      <td>17.18</td>\n",
       "      <td>16.90</td>\n",
       "      <td>17.095</td>\n",
       "      <td>11522</td>\n",
       "      <td>NaN</td>\n",
       "    </tr>\n",
       "    <tr>\n",
       "      <th>2018-10-19 09:45:00</th>\n",
       "      <td>17.11</td>\n",
       "      <td>17.44</td>\n",
       "      <td>17.11</td>\n",
       "      <td>17.400</td>\n",
       "      <td>70593</td>\n",
       "      <td>0.017841</td>\n",
       "    </tr>\n",
       "    <tr>\n",
       "      <th>2018-10-19 10:00:00</th>\n",
       "      <td>17.40</td>\n",
       "      <td>17.40</td>\n",
       "      <td>17.25</td>\n",
       "      <td>17.280</td>\n",
       "      <td>38885</td>\n",
       "      <td>-0.006897</td>\n",
       "    </tr>\n",
       "    <tr>\n",
       "      <th>2018-10-19 10:15:00</th>\n",
       "      <td>17.27</td>\n",
       "      <td>17.27</td>\n",
       "      <td>17.18</td>\n",
       "      <td>17.200</td>\n",
       "      <td>37046</td>\n",
       "      <td>-0.004630</td>\n",
       "    </tr>\n",
       "    <tr>\n",
       "      <th>2018-10-19 10:30:00</th>\n",
       "      <td>17.21</td>\n",
       "      <td>17.37</td>\n",
       "      <td>17.19</td>\n",
       "      <td>17.200</td>\n",
       "      <td>46874</td>\n",
       "      <td>0.000000</td>\n",
       "    </tr>\n",
       "  </tbody>\n",
       "</table>\n",
       "</div>"
      ],
      "text/plain": [
       "                      open   high    low   close  volume  actual_returns\n",
       "date                                                                    \n",
       "2018-10-19 09:30:00  16.90  17.18  16.90  17.095   11522             NaN\n",
       "2018-10-19 09:45:00  17.11  17.44  17.11  17.400   70593        0.017841\n",
       "2018-10-19 10:00:00  17.40  17.40  17.25  17.280   38885       -0.006897\n",
       "2018-10-19 10:15:00  17.27  17.27  17.18  17.200   37046       -0.004630\n",
       "2018-10-19 10:30:00  17.21  17.37  17.19  17.200   46874        0.000000"
      ]
     },
     "execution_count": 3,
     "metadata": {},
     "output_type": "execute_result"
    }
   ],
   "source": [
    "# Calculate the daily returns using the closing prices and the pct_change function\n",
    "trading_df[\"actual_returns\"] = trading_df[\"close\"].pct_change()\n",
    "\n",
    "# Display sample data\n",
    "trading_df.head()"
   ]
  },
  {
   "cell_type": "code",
   "execution_count": 4,
   "metadata": {},
   "outputs": [
    {
     "data": {
      "text/html": [
       "<div>\n",
       "<style scoped>\n",
       "    .dataframe tbody tr th:only-of-type {\n",
       "        vertical-align: middle;\n",
       "    }\n",
       "\n",
       "    .dataframe tbody tr th {\n",
       "        vertical-align: top;\n",
       "    }\n",
       "\n",
       "    .dataframe thead th {\n",
       "        text-align: right;\n",
       "    }\n",
       "</style>\n",
       "<table border=\"1\" class=\"dataframe\">\n",
       "  <thead>\n",
       "    <tr style=\"text-align: right;\">\n",
       "      <th></th>\n",
       "      <th>open</th>\n",
       "      <th>high</th>\n",
       "      <th>low</th>\n",
       "      <th>close</th>\n",
       "      <th>volume</th>\n",
       "      <th>actual_returns</th>\n",
       "    </tr>\n",
       "    <tr>\n",
       "      <th>date</th>\n",
       "      <th></th>\n",
       "      <th></th>\n",
       "      <th></th>\n",
       "      <th></th>\n",
       "      <th></th>\n",
       "      <th></th>\n",
       "    </tr>\n",
       "  </thead>\n",
       "  <tbody>\n",
       "    <tr>\n",
       "      <th>2018-10-19 09:45:00</th>\n",
       "      <td>17.11</td>\n",
       "      <td>17.44</td>\n",
       "      <td>17.11</td>\n",
       "      <td>17.40</td>\n",
       "      <td>70593</td>\n",
       "      <td>0.017841</td>\n",
       "    </tr>\n",
       "    <tr>\n",
       "      <th>2018-10-19 10:00:00</th>\n",
       "      <td>17.40</td>\n",
       "      <td>17.40</td>\n",
       "      <td>17.25</td>\n",
       "      <td>17.28</td>\n",
       "      <td>38885</td>\n",
       "      <td>-0.006897</td>\n",
       "    </tr>\n",
       "    <tr>\n",
       "      <th>2018-10-19 10:15:00</th>\n",
       "      <td>17.27</td>\n",
       "      <td>17.27</td>\n",
       "      <td>17.18</td>\n",
       "      <td>17.20</td>\n",
       "      <td>37046</td>\n",
       "      <td>-0.004630</td>\n",
       "    </tr>\n",
       "    <tr>\n",
       "      <th>2018-10-19 10:30:00</th>\n",
       "      <td>17.21</td>\n",
       "      <td>17.37</td>\n",
       "      <td>17.19</td>\n",
       "      <td>17.20</td>\n",
       "      <td>46874</td>\n",
       "      <td>0.000000</td>\n",
       "    </tr>\n",
       "    <tr>\n",
       "      <th>2018-10-19 10:45:00</th>\n",
       "      <td>17.20</td>\n",
       "      <td>17.20</td>\n",
       "      <td>17.10</td>\n",
       "      <td>17.12</td>\n",
       "      <td>11266</td>\n",
       "      <td>-0.004651</td>\n",
       "    </tr>\n",
       "  </tbody>\n",
       "</table>\n",
       "</div>"
      ],
      "text/plain": [
       "                      open   high    low  close  volume  actual_returns\n",
       "date                                                                   \n",
       "2018-10-19 09:45:00  17.11  17.44  17.11  17.40   70593        0.017841\n",
       "2018-10-19 10:00:00  17.40  17.40  17.25  17.28   38885       -0.006897\n",
       "2018-10-19 10:15:00  17.27  17.27  17.18  17.20   37046       -0.004630\n",
       "2018-10-19 10:30:00  17.21  17.37  17.19  17.20   46874        0.000000\n",
       "2018-10-19 10:45:00  17.20  17.20  17.10  17.12   11266       -0.004651"
      ]
     },
     "metadata": {},
     "output_type": "display_data"
    },
    {
     "data": {
      "text/html": [
       "<div>\n",
       "<style scoped>\n",
       "    .dataframe tbody tr th:only-of-type {\n",
       "        vertical-align: middle;\n",
       "    }\n",
       "\n",
       "    .dataframe tbody tr th {\n",
       "        vertical-align: top;\n",
       "    }\n",
       "\n",
       "    .dataframe thead th {\n",
       "        text-align: right;\n",
       "    }\n",
       "</style>\n",
       "<table border=\"1\" class=\"dataframe\">\n",
       "  <thead>\n",
       "    <tr style=\"text-align: right;\">\n",
       "      <th></th>\n",
       "      <th>open</th>\n",
       "      <th>high</th>\n",
       "      <th>low</th>\n",
       "      <th>close</th>\n",
       "      <th>volume</th>\n",
       "      <th>actual_returns</th>\n",
       "    </tr>\n",
       "    <tr>\n",
       "      <th>date</th>\n",
       "      <th></th>\n",
       "      <th></th>\n",
       "      <th></th>\n",
       "      <th></th>\n",
       "      <th></th>\n",
       "      <th></th>\n",
       "    </tr>\n",
       "  </thead>\n",
       "  <tbody>\n",
       "    <tr>\n",
       "      <th>2020-09-04 14:45:00</th>\n",
       "      <td>6.225</td>\n",
       "      <td>6.26</td>\n",
       "      <td>6.220</td>\n",
       "      <td>6.250</td>\n",
       "      <td>55512</td>\n",
       "      <td>0.003210</td>\n",
       "    </tr>\n",
       "    <tr>\n",
       "      <th>2020-09-04 15:00:00</th>\n",
       "      <td>6.255</td>\n",
       "      <td>6.27</td>\n",
       "      <td>6.245</td>\n",
       "      <td>6.250</td>\n",
       "      <td>65810</td>\n",
       "      <td>0.000000</td>\n",
       "    </tr>\n",
       "    <tr>\n",
       "      <th>2020-09-04 15:15:00</th>\n",
       "      <td>6.250</td>\n",
       "      <td>6.29</td>\n",
       "      <td>6.250</td>\n",
       "      <td>6.275</td>\n",
       "      <td>202630</td>\n",
       "      <td>0.004000</td>\n",
       "    </tr>\n",
       "    <tr>\n",
       "      <th>2020-09-04 15:30:00</th>\n",
       "      <td>6.270</td>\n",
       "      <td>6.28</td>\n",
       "      <td>6.250</td>\n",
       "      <td>6.255</td>\n",
       "      <td>130140</td>\n",
       "      <td>-0.003187</td>\n",
       "    </tr>\n",
       "    <tr>\n",
       "      <th>2020-09-04 15:45:00</th>\n",
       "      <td>6.250</td>\n",
       "      <td>6.28</td>\n",
       "      <td>6.250</td>\n",
       "      <td>6.250</td>\n",
       "      <td>190278</td>\n",
       "      <td>-0.000799</td>\n",
       "    </tr>\n",
       "  </tbody>\n",
       "</table>\n",
       "</div>"
      ],
      "text/plain": [
       "                      open  high    low  close  volume  actual_returns\n",
       "date                                                                  \n",
       "2020-09-04 14:45:00  6.225  6.26  6.220  6.250   55512        0.003210\n",
       "2020-09-04 15:00:00  6.255  6.27  6.245  6.250   65810        0.000000\n",
       "2020-09-04 15:15:00  6.250  6.29  6.250  6.275  202630        0.004000\n",
       "2020-09-04 15:30:00  6.270  6.28  6.250  6.255  130140       -0.003187\n",
       "2020-09-04 15:45:00  6.250  6.28  6.250  6.250  190278       -0.000799"
      ]
     },
     "metadata": {},
     "output_type": "display_data"
    }
   ],
   "source": [
    "# Drop all NaN values from the DataFrame\n",
    "trading_df = trading_df.dropna()\n",
    "\n",
    "# Review the DataFrame\n",
    "display(trading_df.head())\n",
    "display(trading_df.tail())"
   ]
  },
  {
   "cell_type": "markdown",
   "metadata": {},
   "source": [
    "## Generating the Features and Target Sets\n",
    "\n",
    "### Creating the Features Set"
   ]
  },
  {
   "cell_type": "code",
   "execution_count": 5,
   "metadata": {},
   "outputs": [],
   "source": [
    "# Define a window size of 4\n",
    "short_window = 4\n",
    "\n",
    "# Create an SMA that uses short_window, and assign it to a new column named “sma_fast”\n",
    "trading_df[\"sma_fast\"] = trading_df[\"close\"].rolling(window=short_window).mean()"
   ]
  },
  {
   "cell_type": "code",
   "execution_count": 6,
   "metadata": {},
   "outputs": [],
   "source": [
    "# Define a window size of 100\n",
    "long_window = 100\n",
    "\n",
    "# Create an SMA that uses long_window, and assign it to a new columns named “sma_slow”\n",
    "trading_df[\"sma_slow\"] = trading_df[\"close\"].rolling(window=long_window).mean()"
   ]
  },
  {
   "cell_type": "code",
   "execution_count": 7,
   "metadata": {},
   "outputs": [],
   "source": [
    "# Drop the NaNs using dropna()\n",
    "trading_df = trading_df.dropna()"
   ]
  },
  {
   "cell_type": "code",
   "execution_count": 8,
   "metadata": {},
   "outputs": [
    {
     "data": {
      "text/html": [
       "<div>\n",
       "<style scoped>\n",
       "    .dataframe tbody tr th:only-of-type {\n",
       "        vertical-align: middle;\n",
       "    }\n",
       "\n",
       "    .dataframe tbody tr th {\n",
       "        vertical-align: top;\n",
       "    }\n",
       "\n",
       "    .dataframe thead th {\n",
       "        text-align: right;\n",
       "    }\n",
       "</style>\n",
       "<table border=\"1\" class=\"dataframe\">\n",
       "  <thead>\n",
       "    <tr style=\"text-align: right;\">\n",
       "      <th></th>\n",
       "      <th>sma_fast</th>\n",
       "      <th>sma_slow</th>\n",
       "    </tr>\n",
       "    <tr>\n",
       "      <th>date</th>\n",
       "      <th></th>\n",
       "      <th></th>\n",
       "    </tr>\n",
       "  </thead>\n",
       "  <tbody>\n",
       "    <tr>\n",
       "      <th>2018-10-24 15:15:00</th>\n",
       "      <td>15.65250</td>\n",
       "      <td>16.3403</td>\n",
       "    </tr>\n",
       "    <tr>\n",
       "      <th>2018-10-24 15:30:00</th>\n",
       "      <td>15.61875</td>\n",
       "      <td>16.3216</td>\n",
       "    </tr>\n",
       "    <tr>\n",
       "      <th>2018-10-24 15:45:00</th>\n",
       "      <td>15.55375</td>\n",
       "      <td>16.3029</td>\n",
       "    </tr>\n",
       "    <tr>\n",
       "      <th>2018-10-25 09:30:00</th>\n",
       "      <td>15.47625</td>\n",
       "      <td>16.2844</td>\n",
       "    </tr>\n",
       "    <tr>\n",
       "      <th>2018-10-25 09:45:00</th>\n",
       "      <td>15.40250</td>\n",
       "      <td>16.2656</td>\n",
       "    </tr>\n",
       "  </tbody>\n",
       "</table>\n",
       "</div>"
      ],
      "text/plain": [
       "                     sma_fast  sma_slow\n",
       "date                                   \n",
       "2018-10-24 15:15:00  15.65250   16.3403\n",
       "2018-10-24 15:30:00  15.61875   16.3216\n",
       "2018-10-24 15:45:00  15.55375   16.3029\n",
       "2018-10-25 09:30:00  15.47625   16.2844\n",
       "2018-10-25 09:45:00  15.40250   16.2656"
      ]
     },
     "metadata": {},
     "output_type": "display_data"
    },
    {
     "data": {
      "text/html": [
       "<div>\n",
       "<style scoped>\n",
       "    .dataframe tbody tr th:only-of-type {\n",
       "        vertical-align: middle;\n",
       "    }\n",
       "\n",
       "    .dataframe tbody tr th {\n",
       "        vertical-align: top;\n",
       "    }\n",
       "\n",
       "    .dataframe thead th {\n",
       "        text-align: right;\n",
       "    }\n",
       "</style>\n",
       "<table border=\"1\" class=\"dataframe\">\n",
       "  <thead>\n",
       "    <tr style=\"text-align: right;\">\n",
       "      <th></th>\n",
       "      <th>sma_fast</th>\n",
       "      <th>sma_slow</th>\n",
       "    </tr>\n",
       "    <tr>\n",
       "      <th>date</th>\n",
       "      <th></th>\n",
       "      <th></th>\n",
       "    </tr>\n",
       "  </thead>\n",
       "  <tbody>\n",
       "    <tr>\n",
       "      <th>2020-09-04 14:45:00</th>\n",
       "      <td>6.22625</td>\n",
       "      <td>6.27210</td>\n",
       "    </tr>\n",
       "    <tr>\n",
       "      <th>2020-09-04 15:00:00</th>\n",
       "      <td>6.22875</td>\n",
       "      <td>6.27030</td>\n",
       "    </tr>\n",
       "    <tr>\n",
       "      <th>2020-09-04 15:15:00</th>\n",
       "      <td>6.23875</td>\n",
       "      <td>6.26985</td>\n",
       "    </tr>\n",
       "    <tr>\n",
       "      <th>2020-09-04 15:30:00</th>\n",
       "      <td>6.25125</td>\n",
       "      <td>6.26910</td>\n",
       "    </tr>\n",
       "    <tr>\n",
       "      <th>2020-09-04 15:45:00</th>\n",
       "      <td>6.25750</td>\n",
       "      <td>6.26855</td>\n",
       "    </tr>\n",
       "  </tbody>\n",
       "</table>\n",
       "</div>"
      ],
      "text/plain": [
       "                     sma_fast  sma_slow\n",
       "date                                   \n",
       "2020-09-04 14:45:00   6.22625   6.27210\n",
       "2020-09-04 15:00:00   6.22875   6.27030\n",
       "2020-09-04 15:15:00   6.23875   6.26985\n",
       "2020-09-04 15:30:00   6.25125   6.26910\n",
       "2020-09-04 15:45:00   6.25750   6.26855"
      ]
     },
     "metadata": {},
     "output_type": "display_data"
    }
   ],
   "source": [
    "# Assign a copy of the `sma_fast` and `sma_slow` columns to a new DataFrame called `X`\n",
    "X = trading_df[[\"sma_fast\", \"sma_slow\"]].shift().dropna().copy()\n",
    "\n",
    "# Display sample data\n",
    "display(X.head())\n",
    "display(X.tail())"
   ]
  },
  {
   "cell_type": "markdown",
   "metadata": {},
   "source": [
    "### Creating the Target Set"
   ]
  },
  {
   "cell_type": "code",
   "execution_count": 9,
   "metadata": {},
   "outputs": [],
   "source": [
    "# Create a new column in the `trading_df` called \"signal\" setting its value to zero.\n",
    "trading_df[\"signal\"] = 0.0"
   ]
  },
  {
   "cell_type": "code",
   "execution_count": 10,
   "metadata": {},
   "outputs": [],
   "source": [
    "# Create the signal to buy\n",
    "trading_df.loc[(trading_df[\"actual_returns\"] >= 0), \"signal\"] = 1"
   ]
  },
  {
   "cell_type": "code",
   "execution_count": 11,
   "metadata": {},
   "outputs": [],
   "source": [
    "# Create the signal to sell\n",
    "trading_df.loc[(trading_df[\"actual_returns\"] < 0), \"signal\"] = -1"
   ]
  },
  {
   "cell_type": "code",
   "execution_count": 12,
   "metadata": {},
   "outputs": [],
   "source": [
    "# Copy the new \"signal\" column to a new Series called `y`.\n",
    "y = trading_df[\"signal\"].copy()"
   ]
  },
  {
   "cell_type": "markdown",
   "metadata": {},
   "source": [
    "## Split the Data into Training and Testing Sets"
   ]
  },
  {
   "cell_type": "code",
   "execution_count": 13,
   "metadata": {},
   "outputs": [],
   "source": [
    "# Import required libraries\n",
    "from pandas.tseries.offsets import DateOffset"
   ]
  },
  {
   "cell_type": "code",
   "execution_count": 14,
   "metadata": {},
   "outputs": [
    {
     "name": "stdout",
     "output_type": "stream",
     "text": [
      "2018-10-24 15:15:00\n"
     ]
    }
   ],
   "source": [
    "# Select the start of the training period\n",
    "training_begin = X.index.min()\n",
    "\n",
    "# Display the training begin date\n",
    "print(training_begin)"
   ]
  },
  {
   "cell_type": "code",
   "execution_count": 15,
   "metadata": {},
   "outputs": [
    {
     "name": "stdout",
     "output_type": "stream",
     "text": [
      "2019-01-24 15:15:00\n"
     ]
    }
   ],
   "source": [
    "# Select the ending period for the training data with an offset of 3 months\n",
    "training_end = X.index.min() + DateOffset(months=3)\n",
    "\n",
    "# Display the training end date\n",
    "print(training_end)"
   ]
  },
  {
   "cell_type": "code",
   "execution_count": 16,
   "metadata": {},
   "outputs": [],
   "source": [
    "# Generate the X_train and y_train DataFrames\n",
    "X_train = X.loc[training_begin:training_end]\n",
    "y_train = y.loc[training_begin:training_end]"
   ]
  },
  {
   "cell_type": "code",
   "execution_count": 17,
   "metadata": {},
   "outputs": [],
   "source": [
    "# Generate the X_test and y_test DataFrames\n",
    "X_test = X.loc[training_end:]\n",
    "y_test = y.loc[training_end:]"
   ]
  },
  {
   "cell_type": "markdown",
   "metadata": {},
   "source": [
    "## Standardize the Data"
   ]
  },
  {
   "cell_type": "code",
   "execution_count": 18,
   "metadata": {},
   "outputs": [],
   "source": [
    "# Import required libraries\n",
    "from sklearn.preprocessing import StandardScaler"
   ]
  },
  {
   "cell_type": "code",
   "execution_count": 19,
   "metadata": {},
   "outputs": [],
   "source": [
    "# Create a StandardScaler instance\n",
    "scaler = StandardScaler()\n",
    " \n",
    "# Apply the scaler model to fit the X-train data\n",
    "X_scaler = scaler.fit(X_train)\n",
    " \n",
    "# Transform the X_train and X_test DataFrames using the X_scaler\n",
    "X_train_scaled = X_scaler.transform(X_train)\n",
    "X_test_scaled = X_scaler.transform(X_test)"
   ]
  },
  {
   "cell_type": "markdown",
   "metadata": {},
   "source": [
    "---\n",
    "\n",
    "## Using Machine Learning Into a Trading Strategy"
   ]
  },
  {
   "cell_type": "code",
   "execution_count": 20,
   "metadata": {},
   "outputs": [],
   "source": [
    "# Import the SVM model\n"
   ]
  },
  {
   "cell_type": "code",
   "execution_count": 21,
   "metadata": {},
   "outputs": [
    {
     "data": {
      "text/plain": [
       "array([-1., -1., -1., -1., -1., -1., -1., -1., -1., -1.])"
      ]
     },
     "execution_count": 21,
     "metadata": {},
     "output_type": "execute_result"
    }
   ],
   "source": [
    "# Create the classifier model\n",
    "\n",
    " \n",
    "# Fit the model to the data using X_train_scaled and y_train\n",
    "\n",
    "\n",
    "# Use the trained model to predict the trading signals for the training data\n",
    ")\n",
    "\n",
    "# Display the sample predictions\n"
   ]
  },
  {
   "cell_type": "code",
   "execution_count": 22,
   "metadata": {},
   "outputs": [
    {
     "name": "stdout",
     "output_type": "stream",
     "text": [
      "              precision    recall  f1-score   support\n",
      "\n",
      "        -1.0       0.53      0.11      0.19       740\n",
      "         1.0       0.52      0.90      0.66       777\n",
      "\n",
      "    accuracy                           0.52      1517\n",
      "   macro avg       0.52      0.51      0.42      1517\n",
      "weighted avg       0.52      0.52      0.43      1517\n",
      "\n"
     ]
    }
   ],
   "source": [
    "# Evaluate the model using a classification report\n",
    "\n",
    "\n",
    "# Display the report\n"
   ]
  },
  {
   "cell_type": "markdown",
   "metadata": {},
   "source": [
    "### Backtesting a Machine Learning Trading Algorithm"
   ]
  },
  {
   "cell_type": "code",
   "execution_count": 23,
   "metadata": {},
   "outputs": [],
   "source": [
    "# Use the trained model to predict the trading signals for the testing data.\n"
   ]
  },
  {
   "cell_type": "code",
   "execution_count": 24,
   "metadata": {},
   "outputs": [
    {
     "name": "stdout",
     "output_type": "stream",
     "text": [
      "              precision    recall  f1-score   support\n",
      "\n",
      "        -1.0       0.00      0.00      0.00      4894\n",
      "         1.0       0.53      1.00      0.69      5558\n",
      "\n",
      "    accuracy                           0.53     10452\n",
      "   macro avg       0.27      0.50      0.35     10452\n",
      "weighted avg       0.28      0.53      0.37     10452\n",
      "\n"
     ]
    },
    {
     "name": "stderr",
     "output_type": "stream",
     "text": [
      "/Users/jarturomora/opt/anaconda3/envs/dev/lib/python3.7/site-packages/sklearn/metrics/_classification.py:1221: UndefinedMetricWarning: Precision and F-score are ill-defined and being set to 0.0 in labels with no predicted samples. Use `zero_division` parameter to control this behavior.\n",
      "  _warn_prf(average, modifier, msg_start, len(result))\n"
     ]
    }
   ],
   "source": [
    "# Evaluate the model's ability to predict the trading signal for the testing data\n",
    "\n",
    "\n",
    "# Display the report\n"
   ]
  },
  {
   "cell_type": "markdown",
   "metadata": {},
   "source": [
    "### Visually Compare the Actual and Predicted Returns"
   ]
  },
  {
   "cell_type": "code",
   "execution_count": 25,
   "metadata": {},
   "outputs": [
    {
     "data": {
      "text/html": [
       "<div>\n",
       "<style scoped>\n",
       "    .dataframe tbody tr th:only-of-type {\n",
       "        vertical-align: middle;\n",
       "    }\n",
       "\n",
       "    .dataframe tbody tr th {\n",
       "        vertical-align: top;\n",
       "    }\n",
       "\n",
       "    .dataframe thead th {\n",
       "        text-align: right;\n",
       "    }\n",
       "</style>\n",
       "<table border=\"1\" class=\"dataframe\">\n",
       "  <thead>\n",
       "    <tr style=\"text-align: right;\">\n",
       "      <th></th>\n",
       "      <th>predicted_signal</th>\n",
       "      <th>actual_returns</th>\n",
       "      <th>trading_algorithm_returns</th>\n",
       "    </tr>\n",
       "    <tr>\n",
       "      <th>date</th>\n",
       "      <th></th>\n",
       "      <th></th>\n",
       "      <th></th>\n",
       "    </tr>\n",
       "  </thead>\n",
       "  <tbody>\n",
       "    <tr>\n",
       "      <th>2019-01-24 15:15:00</th>\n",
       "      <td>1.0</td>\n",
       "      <td>0.001412</td>\n",
       "      <td>0.001412</td>\n",
       "    </tr>\n",
       "    <tr>\n",
       "      <th>2019-01-24 15:30:00</th>\n",
       "      <td>1.0</td>\n",
       "      <td>-0.001410</td>\n",
       "      <td>-0.001410</td>\n",
       "    </tr>\n",
       "    <tr>\n",
       "      <th>2019-01-24 15:45:00</th>\n",
       "      <td>1.0</td>\n",
       "      <td>-0.003531</td>\n",
       "      <td>-0.003531</td>\n",
       "    </tr>\n",
       "    <tr>\n",
       "      <th>2019-01-25 09:30:00</th>\n",
       "      <td>1.0</td>\n",
       "      <td>0.009922</td>\n",
       "      <td>0.009922</td>\n",
       "    </tr>\n",
       "    <tr>\n",
       "      <th>2019-01-25 09:45:00</th>\n",
       "      <td>1.0</td>\n",
       "      <td>0.002105</td>\n",
       "      <td>0.002105</td>\n",
       "    </tr>\n",
       "  </tbody>\n",
       "</table>\n",
       "</div>"
      ],
      "text/plain": [
       "                     predicted_signal  actual_returns  \\\n",
       "date                                                    \n",
       "2019-01-24 15:15:00               1.0        0.001412   \n",
       "2019-01-24 15:30:00               1.0       -0.001410   \n",
       "2019-01-24 15:45:00               1.0       -0.003531   \n",
       "2019-01-25 09:30:00               1.0        0.009922   \n",
       "2019-01-25 09:45:00               1.0        0.002105   \n",
       "\n",
       "                     trading_algorithm_returns  \n",
       "date                                            \n",
       "2019-01-24 15:15:00                   0.001412  \n",
       "2019-01-24 15:30:00                  -0.001410  \n",
       "2019-01-24 15:45:00                  -0.003531  \n",
       "2019-01-25 09:30:00                   0.009922  \n",
       "2019-01-25 09:45:00                   0.002105  "
      ]
     },
     "execution_count": 25,
     "metadata": {},
     "output_type": "execute_result"
    }
   ],
   "source": [
    "# Create a predictions DataFrame\n",
    "\n",
    "\n",
    "# Review the DataFrame\n"
   ]
  },
  {
   "cell_type": "code",
   "execution_count": 26,
   "metadata": {},
   "outputs": [
    {
     "data": {
      "text/plain": [
       "<matplotlib.axes._subplots.AxesSubplot at 0x7ff621074190>"
      ]
     },
     "execution_count": 26,
     "metadata": {},
     "output_type": "execute_result"
    },
    {
     "data": {
      "image/png": "[encoded data removed]",
      "text/plain": [
       "<Figure size 432x288 with 1 Axes>"
      ]
     },
     "metadata": {
      "needs_background": "light"
     },
     "output_type": "display_data"
    }
   ],
   "source": [
    "# Calculate and plot the cumulative returns for the `actual_returns` and the `trading_algorithm_returns`\n"
   ]
  },
  {
   "cell_type": "code",
   "execution_count": null,
   "metadata": {},
   "outputs": [],
   "source": []
  }
 ],
 "metadata": {
  "kernelspec": {
   "display_name": "Python 3",
   "language": "python",
   "name": "python3"
  },
  "language_info": {
   "codemirror_mode": {
    "name": "ipython",
    "version": 3
   },
   "file_extension": ".py",
   "mimetype": "text/x-python",
   "name": "python",
   "nbconvert_exporter": "python",
   "pygments_lexer": "ipython3",
   "version": "3.7.7"
  }
 },
 "nbformat": 4,
 "nbformat_minor": 4
}
