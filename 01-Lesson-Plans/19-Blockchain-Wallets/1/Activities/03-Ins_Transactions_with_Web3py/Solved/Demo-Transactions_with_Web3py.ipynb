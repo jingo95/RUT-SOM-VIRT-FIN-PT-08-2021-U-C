{
 "metadata": {
  "language_info": {
   "codemirror_mode": {
    "name": "ipython",
    "version": 3
   },
   "file_extension": ".py",
   "mimetype": "text/x-python",
   "name": "python",
   "nbconvert_exporter": "python",
   "pygments_lexer": "ipython3",
   "version": 3
  },
  "orig_nbformat": 2
 },
 "nbformat": 4,
 "nbformat_minor": 2,
 "cells": [
  {
   "cell_type": "code",
   "execution_count": null,
   "metadata": {},
   "outputs": [],
   "source": [
    "# Import the Web3 library\n",
    "from web3 import Web3\n",
    "\n",
    "# Import the RPC Provider\n",
    "from web3 import EthereumTesterProvider\n",
    "\n",
    "# Create an instance of Web3\n",
    "w3 = Web3()\n",
    "\n",
    "# Create an instance of the EthereumTesterProvider\n",
    "provider = EthereumTesterProvider()\n",
    "\n",
    "# Update the Web3 instance to include the provider\n",
    "w3 = Web3(provider)\n",
    "\n",
    "# Access information for the most recent block\n",
    "w3.eth.get_block(“latest”)\n",
    "\n",
    "# Access a list of accounts on the blockchain\n",
    "w3.eth.accounts\n",
    "\n",
    "# Set the sender address\n",
    "sender = '0xabBACadaBA000000000000000000000000000003'\n",
    "\n",
    "# Set the receiver address\n",
    "recevier = ‘0xabbAcADABa000000000000000000000000000004’\n",
    "\n",
    "# Set units of gas\n",
    "gas = 21,000\n",
    "\n",
    "# Convert balance from ether to wei\n",
    "value = w3.toWei(200, 'ether')\n",
    "\n",
    "# Send the transaction to the blockchain\n",
    "w3.eth.send_transaction({'to': receiver , 'from': sender , ‘gas’: gas, 'value': value})\n"
   ]
  }
 ]
}