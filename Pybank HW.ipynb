{
 "cells": [
  {
   "cell_type": "code",
   "execution_count": 15,
   "id": "c3c4a320-2e6b-4368-bb18-3aa856fb323c",
   "metadata": {
    "tags": []
   },
   "outputs": [],
   "source": [
    "df=pd.read_csv(\"budget_data.csv\")"
   ]
  },
  {
   "cell_type": "code",
   "execution_count": 11,
   "id": "6795306c-14be-4a61-ad28-9f89694babc2",
   "metadata": {},
   "outputs": [],
   "source": [
    "import pandas as pd"
   ]
  },
  {
   "cell_type": "code",
   "execution_count": 16,
   "id": "2ce14965-0c4a-4ff3-bb1c-8fbb8935c463",
   "metadata": {},
   "outputs": [
    {
     "data": {
      "text/html": [
       "<div>\n",
       "<style scoped>\n",
       "    .dataframe tbody tr th:only-of-type {\n",
       "        vertical-align: middle;\n",
       "    }\n",
       "\n",
       "    .dataframe tbody tr th {\n",
       "        vertical-align: top;\n",
       "    }\n",
       "\n",
       "    .dataframe thead th {\n",
       "        text-align: right;\n",
       "    }\n",
       "</style>\n",
       "<table border=\"1\" class=\"dataframe\">\n",
       "  <thead>\n",
       "    <tr style=\"text-align: right;\">\n",
       "      <th></th>\n",
       "      <th>Date</th>\n",
       "      <th>Profit/Losses</th>\n",
       "    </tr>\n",
       "  </thead>\n",
       "  <tbody>\n",
       "    <tr>\n",
       "      <th>0</th>\n",
       "      <td>Jan-2010</td>\n",
       "      <td>867884</td>\n",
       "    </tr>\n",
       "    <tr>\n",
       "      <th>1</th>\n",
       "      <td>Feb-2010</td>\n",
       "      <td>984655</td>\n",
       "    </tr>\n",
       "    <tr>\n",
       "      <th>2</th>\n",
       "      <td>Mar-2010</td>\n",
       "      <td>322013</td>\n",
       "    </tr>\n",
       "    <tr>\n",
       "      <th>3</th>\n",
       "      <td>Apr-2010</td>\n",
       "      <td>-69417</td>\n",
       "    </tr>\n",
       "    <tr>\n",
       "      <th>4</th>\n",
       "      <td>May-2010</td>\n",
       "      <td>310503</td>\n",
       "    </tr>\n",
       "    <tr>\n",
       "      <th>...</th>\n",
       "      <td>...</td>\n",
       "      <td>...</td>\n",
       "    </tr>\n",
       "    <tr>\n",
       "      <th>81</th>\n",
       "      <td>Oct-2016</td>\n",
       "      <td>102685</td>\n",
       "    </tr>\n",
       "    <tr>\n",
       "      <th>82</th>\n",
       "      <td>Nov-2016</td>\n",
       "      <td>795914</td>\n",
       "    </tr>\n",
       "    <tr>\n",
       "      <th>83</th>\n",
       "      <td>Dec-2016</td>\n",
       "      <td>60988</td>\n",
       "    </tr>\n",
       "    <tr>\n",
       "      <th>84</th>\n",
       "      <td>Jan-2017</td>\n",
       "      <td>138230</td>\n",
       "    </tr>\n",
       "    <tr>\n",
       "      <th>85</th>\n",
       "      <td>Feb-2017</td>\n",
       "      <td>671099</td>\n",
       "    </tr>\n",
       "  </tbody>\n",
       "</table>\n",
       "<p>86 rows × 2 columns</p>\n",
       "</div>"
      ],
      "text/plain": [
       "        Date  Profit/Losses\n",
       "0   Jan-2010         867884\n",
       "1   Feb-2010         984655\n",
       "2   Mar-2010         322013\n",
       "3   Apr-2010         -69417\n",
       "4   May-2010         310503\n",
       "..       ...            ...\n",
       "81  Oct-2016         102685\n",
       "82  Nov-2016         795914\n",
       "83  Dec-2016          60988\n",
       "84  Jan-2017         138230\n",
       "85  Feb-2017         671099\n",
       "\n",
       "[86 rows x 2 columns]"
      ]
     },
     "execution_count": 16,
     "metadata": {},
     "output_type": "execute_result"
    }
   ],
   "source": [
    "df"
   ]
  },
  {
   "cell_type": "code",
   "execution_count": 17,
   "id": "b5513ac0-78c4-41e5-87a4-99ab246828bf",
   "metadata": {},
   "outputs": [],
   "source": [
    "import os"
   ]
  },
  {
   "cell_type": "code",
   "execution_count": 18,
   "id": "877f724e-384b-4a4a-8410-86b6787d6de9",
   "metadata": {},
   "outputs": [
    {
     "data": {
      "text/plain": [
       "<module 'os' from '/Users/JakeDoherty_1/opt/anaconda3/lib/python3.8/os.py'>"
      ]
     },
     "execution_count": 18,
     "metadata": {},
     "output_type": "execute_result"
    }
   ],
   "source": [
    "os"
   ]
  },
  {
   "cell_type": "code",
   "execution_count": 19,
   "id": "2ebb1fec-9340-4424-a070-e96aa1381bae",
   "metadata": {},
   "outputs": [],
   "source": [
    "file_to_load = os.path.join('budget_data.csv')"
   ]
  },
  {
   "cell_type": "code",
   "execution_count": 38,
   "id": "a5f02425-0687-435c-8bde-1b87defa63ee",
   "metadata": {},
   "outputs": [
    {
     "name": "stdout",
     "output_type": "stream",
     "text": [
      "['Date', 'Profit/Losses']\n",
      "867884\n",
      "0\n",
      "38382578\n",
      "86\n"
     ]
    }
   ],
   "source": [
    "df = []\n",
    "count = 0\n",
    "total = 0\n",
    "average_change = 0\n",
    "greatest_incr = (\"\",0)\n",
    "greatest_decr = (\"\",0)\n",
    "month_year = \"\"\n",
    "ini = 0\n",
    "\n",
    "csvpath = Path('budget_data.csv')\n",
    "\n",
    "with open(csvpath, 'r') as csvfile:\n",
    "    \n",
    "    csvreader = csv.reader(csvfile, delimiter=',')\n",
    "    \n",
    "    csv_header = next(csvreader)\n",
    "    print(csv_header)\n",
    "    for row in csvreader:\n",
    "        count = (count + 1)        \n",
    "        bdf = int(row[1])\n",
    "\n",
    "\n",
    "        if count < 2:\n",
    "            ini = bdf\n",
    "        else:\n",
    "            next_row = bdf  \n",
    "        month_year = row[0]\n",
    "        total = (bdf + total)\n",
    "        \n",
    "print(ini)\n",
    "print(average_change)\n",
    "print(total)\n",
    "print(count)"
   ]
  },
  {
   "cell_type": "code",
   "execution_count": 39,
   "id": "5f0eb227-8926-4b4f-a8a6-427915314eb5",
   "metadata": {},
   "outputs": [],
   "source": [
    "from pathlib import Path\n",
    "import csv"
   ]
  },
  {
   "cell_type": "code",
   "execution_count": 40,
   "id": "da1f7181-fa66-491d-a12a-8056a57a977d",
   "metadata": {},
   "outputs": [],
   "source": [
    "df=[]\n",
    "inc_month=[\"\"]\n",
    "dec_month =[\"\"]\n",
    "previous_val = 0\n",
    "Total_Months = 1\n",
    "Total = 0\n",
    "Average_Change = 0\n",
    "Greatest_Increase = 0\n",
    "Greatest_Decrease = 0\n",
    "csvpath = Path(\"budget_data.csv\")"
   ]
  },
  {
   "cell_type": "code",
   "execution_count": 41,
   "id": "8bb605ff-051f-43b9-bc10-3a10c659e298",
   "metadata": {},
   "outputs": [],
   "source": [
    "with open(csvpath, \"r\") as csvfile:\n",
    "    csvreader = csv.reader(csvfile)    \n",
    "    next(csvreader)\n",
    "    df = next(csvreader)\n",
    "    previous_val = int(df[1])\n",
    "    Total = previous_val\n",
    "    for row in csvreader:\n",
    "              \n",
    "        Total_Months = Total_Months +1\n",
    "        Total = Total + int(row[1])\n",
    "        Average_Change = Average_Change + (int(row[1])-previous_val)\n",
    "    # if statment to get values from for loop       \n",
    "        if int(row[1]) - previous_val > Greatest_Increase:\n",
    "            Greatest_Increase = int(row[1]) - previous_val\n",
    "            inc_month = (row[0])\n",
    "        elif int(row[1]) - previous_val < Greatest_Decrease:\n",
    "            Greatest_Decrease = int(row[1]) - previous_val\n",
    "            dec_month = (row[0])\n",
    "        previous_val = int(row[1])   \n",
    "    Average_Change = Average_Change/(Total_Months-1)"
   ]
  },
  {
   "cell_type": "code",
   "execution_count": 42,
   "id": "6ae29fc8-2088-4613-a7b8-680746fb5d56",
   "metadata": {},
   "outputs": [
    {
     "name": "stdout",
     "output_type": "stream",
     "text": [
      "Total: 38382578\n",
      "Total Months: 86\n",
      "Average  Change: -2315.12\n",
      "Greatest Increase in Profits: Feb-2012 : 1926159\n",
      "Greatest Decrease in Profits: Sep-2013 : -2196167\n"
     ]
    }
   ],
   "source": [
    "# results \n",
    "print(\"Total:\", Total)\n",
    "print(\"Total Months:\", Total_Months)\n",
    "print(\"Average  Change:\", round(Average_Change,2))\n",
    "print(\"Greatest Increase in Profits:\", inc_month,\":\", Greatest_Increase)\n",
    "print(\"Greatest Decrease in Profits:\", dec_month,\":\", Greatest_Decrease)"
   ]
  },
  {
   "cell_type": "code",
   "execution_count": null,
   "id": "60d75b2e-dae7-46fe-a465-30b226f7277f",
   "metadata": {},
   "outputs": [],
   "source": []
  }
 ],
 "metadata": {
  "kernelspec": {
   "display_name": "Python 3",
   "language": "python",
   "name": "python3"
  },
  "language_info": {
   "codemirror_mode": {
    "name": "ipython",
    "version": 3
   },
   "file_extension": ".py",
   "mimetype": "text/x-python",
   "name": "python",
   "nbconvert_exporter": "python",
   "pygments_lexer": "ipython3",
   "version": "3.8.8"
  }
 },
 "nbformat": 4,
 "nbformat_minor": 5
}
